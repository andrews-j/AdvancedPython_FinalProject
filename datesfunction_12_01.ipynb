{
 "cells": [
  {
   "cell_type": "markdown",
   "id": "14a318eb-bd22-4cff-82ad-a6beded600b7",
   "metadata": {},
   "source": [
    "stage 2\n",
    "\n",
    "feed list of dates and get satelight images for each date\n",
    " would the polygon associated with the fire also have to be in the function?\n",
    "\n",
    "notas\n",
    "- for loop\n",
    "- function?"
   ]
  },
  {
   "cell_type": "code",
   "execution_count": null,
   "id": "b7016f8d-2b2c-4792-b442-b738b36eb137",
   "metadata": {},
   "outputs": [],
   "source": [
    "#resources used\n",
    "#https://stackoverflow.com/questions/6871016/adding-days-to-a-date-in-python\n"
   ]
  },
  {
   "cell_type": "code",
   "execution_count": 24,
   "id": "d6e46acd-04ce-4d78-babd-362b52606f2e",
   "metadata": {
    "tags": []
   },
   "outputs": [
    {
     "name": "stdout",
     "output_type": "stream",
     "text": [
      "Requirement already satisfied: gemgis in /srv/conda/envs/notebook/lib/python3.11/site-packages (1.1.6)\n",
      "Requirement already satisfied: geopandas in /srv/conda/envs/notebook/lib/python3.11/site-packages (from gemgis) (0.13.2)\n",
      "Requirement already satisfied: rasterio in /srv/conda/envs/notebook/lib/python3.11/site-packages (from gemgis) (1.3.7)\n",
      "Requirement already satisfied: pyvista in /srv/conda/envs/notebook/lib/python3.11/site-packages (from gemgis) (0.42.3)\n",
      "Requirement already satisfied: fiona>=1.8.19 in /srv/conda/envs/notebook/lib/python3.11/site-packages (from geopandas->gemgis) (1.9.4)\n",
      "Requirement already satisfied: packaging in /srv/conda/envs/notebook/lib/python3.11/site-packages (from geopandas->gemgis) (23.1)\n",
      "Requirement already satisfied: pandas>=1.1.0 in /srv/conda/envs/notebook/lib/python3.11/site-packages (from geopandas->gemgis) (2.0.2)\n",
      "Requirement already satisfied: pyproj>=3.0.1 in /srv/conda/envs/notebook/lib/python3.11/site-packages (from geopandas->gemgis) (3.6.0)\n",
      "Requirement already satisfied: shapely>=1.7.1 in /srv/conda/envs/notebook/lib/python3.11/site-packages (from geopandas->gemgis) (2.0.1)\n",
      "Requirement already satisfied: matplotlib>=3.0.1 in /srv/conda/envs/notebook/lib/python3.11/site-packages (from pyvista->gemgis) (3.7.1)\n",
      "Requirement already satisfied: numpy in /srv/conda/envs/notebook/lib/python3.11/site-packages (from pyvista->gemgis) (1.24.3)\n",
      "Requirement already satisfied: pillow in /srv/conda/envs/notebook/lib/python3.11/site-packages (from pyvista->gemgis) (9.5.0)\n",
      "Requirement already satisfied: pooch in /srv/conda/envs/notebook/lib/python3.11/site-packages (from pyvista->gemgis) (1.7.0)\n",
      "Requirement already satisfied: scooby>=0.5.1 in /srv/conda/envs/notebook/lib/python3.11/site-packages (from pyvista->gemgis) (0.7.2)\n",
      "Requirement already satisfied: vtk in /srv/conda/envs/notebook/lib/python3.11/site-packages (from pyvista->gemgis) (9.3.0)\n",
      "Requirement already satisfied: affine in /srv/conda/envs/notebook/lib/python3.11/site-packages (from rasterio->gemgis) (2.4.0)\n",
      "Requirement already satisfied: attrs in /srv/conda/envs/notebook/lib/python3.11/site-packages (from rasterio->gemgis) (23.1.0)\n",
      "Requirement already satisfied: certifi in /srv/conda/envs/notebook/lib/python3.11/site-packages (from rasterio->gemgis) (2023.5.7)\n",
      "Requirement already satisfied: click>=4.0 in /srv/conda/envs/notebook/lib/python3.11/site-packages (from rasterio->gemgis) (8.1.3)\n",
      "Requirement already satisfied: cligj>=0.5 in /srv/conda/envs/notebook/lib/python3.11/site-packages (from rasterio->gemgis) (0.7.2)\n",
      "Requirement already satisfied: snuggs>=1.4.1 in /srv/conda/envs/notebook/lib/python3.11/site-packages (from rasterio->gemgis) (1.4.7)\n",
      "Requirement already satisfied: click-plugins in /srv/conda/envs/notebook/lib/python3.11/site-packages (from rasterio->gemgis) (1.1.1)\n",
      "Requirement already satisfied: setuptools in /srv/conda/envs/notebook/lib/python3.11/site-packages (from rasterio->gemgis) (67.7.2)\n",
      "Requirement already satisfied: six in /srv/conda/envs/notebook/lib/python3.11/site-packages (from fiona>=1.8.19->geopandas->gemgis) (1.16.0)\n",
      "Requirement already satisfied: contourpy>=1.0.1 in /srv/conda/envs/notebook/lib/python3.11/site-packages (from matplotlib>=3.0.1->pyvista->gemgis) (1.1.0)\n",
      "Requirement already satisfied: cycler>=0.10 in /srv/conda/envs/notebook/lib/python3.11/site-packages (from matplotlib>=3.0.1->pyvista->gemgis) (0.11.0)\n",
      "Requirement already satisfied: fonttools>=4.22.0 in /srv/conda/envs/notebook/lib/python3.11/site-packages (from matplotlib>=3.0.1->pyvista->gemgis) (4.40.0)\n",
      "Requirement already satisfied: kiwisolver>=1.0.1 in /srv/conda/envs/notebook/lib/python3.11/site-packages (from matplotlib>=3.0.1->pyvista->gemgis) (1.4.4)\n",
      "Requirement already satisfied: pyparsing>=2.3.1 in /srv/conda/envs/notebook/lib/python3.11/site-packages (from matplotlib>=3.0.1->pyvista->gemgis) (3.1.0)\n",
      "Requirement already satisfied: python-dateutil>=2.7 in /srv/conda/envs/notebook/lib/python3.11/site-packages (from matplotlib>=3.0.1->pyvista->gemgis) (2.8.2)\n",
      "Requirement already satisfied: pytz>=2020.1 in /srv/conda/envs/notebook/lib/python3.11/site-packages (from pandas>=1.1.0->geopandas->gemgis) (2023.3)\n",
      "Requirement already satisfied: tzdata>=2022.1 in /srv/conda/envs/notebook/lib/python3.11/site-packages (from pandas>=1.1.0->geopandas->gemgis) (2023.3)\n",
      "Requirement already satisfied: platformdirs>=2.5.0 in /srv/conda/envs/notebook/lib/python3.11/site-packages (from pooch->pyvista->gemgis) (3.6.0)\n",
      "Requirement already satisfied: requests>=2.19.0 in /srv/conda/envs/notebook/lib/python3.11/site-packages (from pooch->pyvista->gemgis) (2.31.0)\n",
      "Requirement already satisfied: charset-normalizer<4,>=2 in /srv/conda/envs/notebook/lib/python3.11/site-packages (from requests>=2.19.0->pooch->pyvista->gemgis) (3.1.0)\n",
      "Requirement already satisfied: idna<4,>=2.5 in /srv/conda/envs/notebook/lib/python3.11/site-packages (from requests>=2.19.0->pooch->pyvista->gemgis) (3.4)\n",
      "Requirement already satisfied: urllib3<3,>=1.21.1 in /srv/conda/envs/notebook/lib/python3.11/site-packages (from requests>=2.19.0->pooch->pyvista->gemgis) (1.26.15)\n"
     ]
    }
   ],
   "source": [
    "!pip install gemgis #(1.1.6)"
   ]
  },
  {
   "cell_type": "code",
   "execution_count": 26,
   "id": "711ac087-8cd8-44c3-8b3a-768f397155fc",
   "metadata": {
    "tags": []
   },
   "outputs": [],
   "source": [
    "import datetime\n",
    "import geopandas as gpd\n",
    "import gemgis as gg"
   ]
  },
  {
   "cell_type": "code",
   "execution_count": 92,
   "id": "eda8399c-1dc7-4a86-b400-37c4c7e14629",
   "metadata": {
    "tags": []
   },
   "outputs": [
    {
     "data": {
      "text/plain": [
       "['2020-08-16',\n",
       " '2020-08-16',\n",
       " '2020-02-28',\n",
       " '2005-07-19',\n",
       " '2005-07-26',\n",
       " '2008-06-20',\n",
       " '2008-06-11',\n",
       " '2008-06-22',\n",
       " '2009-08-12',\n",
       " '2010-06-18',\n",
       " '2004-05-09',\n",
       " '2011-07-20',\n",
       " '2015-05-10',\n",
       " '2021-01-19',\n",
       " '2022-06-21',\n",
       " '2020-05-24',\n",
       " '2020-08-17',\n",
       " '2020-09-27',\n",
       " '2020-06-05',\n",
       " '2020-08-18',\n",
       " '2003-08-26',\n",
       " '2004-06-25',\n",
       " '2013-07-04',\n",
       " '2013-07-26',\n",
       " '2013-05-01',\n",
       " '2017-08-27',\n",
       " '2017-10-08',\n",
       " '2017-10-08',\n",
       " '2017-10-08',\n",
       " '2017-10-08',\n",
       " '2019-10-23',\n",
       " '2022-06-23',\n",
       " '2017-10-09']"
      ]
     },
     "execution_count": 92,
     "metadata": {},
     "output_type": "execute_result"
    }
   ],
   "source": [
    "#import eucalyptus in fires shapfiles\n",
    "#import shapefiles\n",
    "EucList= gpd.read_file(\"Euc/EucInFires.shp\")\n",
    "FiresWithEuc = gpd.read_file(\"Fire/FiresWithEuc.shp\")\n",
    "\n",
    "#create a list with the alarm_dates\n",
    "fdates = FiresWithEuc['ALARM_DATE']\n",
    "fdates_list = list(fdates)\n"
   ]
  },
  {
   "cell_type": "code",
   "execution_count": null,
   "id": "b09863b0-f793-4512-8bde-353107b6a83a",
   "metadata": {},
   "outputs": [],
   "source": [
    "''' the problem with the below method is that it doesn't just extract the coords\n",
    "i will need to create a function with a for loop that will extract just the xy geometry of the centroid column\n",
    "i belive the following link should help me do this.\n",
    "\n",
    "https://gemgis.readthedocs.io/en/latest/getting_started/tutorial/01_extract_xy.html\n",
    "'''"
   ]
  },
  {
   "cell_type": "code",
   "execution_count": 84,
   "id": "f46ed947-f4de-4fad-8b59-703149752be3",
   "metadata": {
    "tags": []
   },
   "outputs": [],
   "source": [
    "# create centroid of each fire \n",
    "FiresWithEuc[\"centroid\"] = FiresWithEuc.centroid\n",
    "FiresWithEuc[\"centroid\"]\n",
    "#fdates_list\n",
    "\n",
    "centroids_col = FiresWithEuc['centroid']\n",
    "#centroids_list = list(centroids_col)\n",
    "\n",
    "#puts x and y coordinates into a new column in the geodataframe\n",
    "FiresWithEuc[\"x\"] = FiresWithEuc.centroid.x\n",
    "FiresWithEuc[\"y\"] = FiresWithEuc.centroid.y\n",
    "\n",
    "\n",
    "#FiresWithEuc[[\"x\",\"y\"]]\n",
    "#creates a new column that combines the x and y coordinates separated by a column in parenthesis\n",
    "FiresWithEuc['xy'] = FiresWithEuc.apply(lambda row: f\"({row['x']}, {row['y']})\", axis=1)\n",
    "#FiresWithEuc['xy']\n",
    "#drops individual x and y columns as theyre no longer needed\n",
    "FiresWithEuc = FiresWithEuc.drop(columns=['x','y'])\n",
    "FiresWithEuc_xy = FiresWithEuc['xy']\n"
   ]
  },
  {
   "cell_type": "code",
   "execution_count": 94,
   "id": "ada6ddb9-65ad-4e7e-a98f-ae59e2dba733",
   "metadata": {
    "tags": []
   },
   "outputs": [
    {
     "data": {
      "text/plain": [
       "['(-13605896.412321707, 4459697.520420889)',\n",
       " '(-13519456.41726052, 4488270.417491201)',\n",
       " '(-13629201.59506469, 4537553.918969497)',\n",
       " '(-13532577.408406617, 4531541.664553867)',\n",
       " '(-13565486.924875727, 4524455.057182984)',\n",
       " '(-13560727.542358777, 4430672.310612718)',\n",
       " '(-13596177.777028902, 4445764.066767888)',\n",
       " '(-13627172.317468798, 4534450.68453329)',\n",
       " '(-13604823.114726292, 4450621.765492678)',\n",
       " '(-13537065.53896654, 4549682.827212654)',\n",
       " '(-13642225.296488944, 4562900.175688107)',\n",
       " '(-13638830.314101947, 4555314.778814859)',\n",
       " '(-13660723.658249944, 4565664.645417509)',\n",
       " '(-13562654.63421647, 4436024.982576997)',\n",
       " '(-13612396.23965091, 4503103.089760357)',\n",
       " '(-13659895.079141738, 4622732.833234768)',\n",
       " '(-13693682.3238792, 4666830.815168608)',\n",
       " '(-13641770.30844558, 4655726.144323494)',\n",
       " '(-13643165.27813738, 4611565.82613303)',\n",
       " '(-13672380.559213018, 4582716.047256418)',\n",
       " '(-13573172.129983775, 4578062.080277436)',\n",
       " '(-13597169.063795296, 4580499.491858096)',\n",
       " '(-13618460.243953204, 4612654.982792695)',\n",
       " '(-13638615.818083616, 4605545.131369515)',\n",
       " '(-13611986.775508879, 4634367.50375997)',\n",
       " '(-13661461.828962812, 4615857.392561851)',\n",
       " '(-13634395.397533366, 4632904.575030248)',\n",
       " '(-13652400.017101323, 4630725.772133034)',\n",
       " '(-13656999.948398117, 4658591.822790037)',\n",
       " '(-13606529.205042662, 4632238.313654515)',\n",
       " '(-13666453.19545378, 4675551.197147952)',\n",
       " '(-13602401.293971272, 4586540.101552317)',\n",
       " '(-13633522.810867801, 4601112.486761457)']"
      ]
     },
     "execution_count": 94,
     "metadata": {},
     "output_type": "execute_result"
    }
   ],
   "source": [
    "FiresWithEuc_xylist = list(FiresWithEuc_xy)\n",
    "#for entry in FiresWithEuc_xylist:\n",
    "#    print(entry)\n",
    "\n",
    "FiresWithEuc_xylist"
   ]
  },
  {
   "cell_type": "code",
   "execution_count": 4,
   "id": "052c3164-d335-4e38-b831-bfcc02c4ce51",
   "metadata": {
    "tags": []
   },
   "outputs": [
    {
     "data": {
      "text/plain": [
       "<Axes: >"
      ]
     },
     "execution_count": 4,
     "metadata": {},
     "output_type": "execute_result"
    },
    {
     "data": {
      "image/png": "[encoded data removed]",
      "text/plain": [
       "<Figure size 640x480 with 1 Axes>"
      ]
     },
     "metadata": {},
     "output_type": "display_data"
    }
   ],
   "source": [
    "ax = FiresWithEuc.plot()\n",
    "FiresWithEuc[\"centroid\"].plot(ax = ax, color = \"red\")"
   ]
  },
  {
   "cell_type": "code",
   "execution_count": 96,
   "id": "9f1a14b3-61cd-4530-966b-248f5480f7cf",
   "metadata": {
    "tags": []
   },
   "outputs": [
    {
     "name": "stdout",
     "output_type": "stream",
     "text": [
      "[(7.5, 17.5, 12.5, 22.5), (27.5, 37.5, 32.5, 42.5), (47.5, 57.5, 52.5, 62.5)]\n"
     ]
    }
   ],
   "source": [
    "'''\n",
    "i need to figure out what are the appropriate widths/heights for this but i am using stand in values for now\n",
    "i wanted to test it with the centroid data before i continue here but i have realized i need to \n",
    "convert them into a proper list/ extract the xy points before i can do that.....\n",
    "'''\n",
    "def create_bounding_boxes(centroids, box_width, box_height):\n",
    "#this function takes a list of centroid points and convernts them into a bbbox to use for querying sattelitte images.\n",
    "# the the size of the bbox should theoretically be large enought to contain the largest fire    \n",
    "    bounding_boxes = []\n",
    "\n",
    "    for centroid in centroids:\n",
    "        x, y = centroid\n",
    "        half_width = box_width / 2\n",
    "        half_height = box_height / 2\n",
    "\n",
    "        # Calculate bounding box coordinates\n",
    "        bbox = (\n",
    "            x - half_width,\n",
    "            y - half_height,\n",
    "            x + half_width,\n",
    "            y + half_height,\n",
    "        )\n",
    "\n",
    "        bounding_boxes.append(bbox)\n",
    "\n",
    "    return bounding_boxes\n",
    "\n",
    "# Example usage\n",
    "centroids = [(10, 20), (30, 40), (50, 60)]\n",
    "box_width = 5\n",
    "box_height = 5\n",
    "\n",
    "result = create_bounding_boxes(centroids, box_width, box_height)\n",
    "print(result)\n"
   ]
  },
  {
   "cell_type": "code",
   "execution_count": 6,
   "id": "9bb87b64-8d5f-42f6-9726-55be72b0ae1e",
   "metadata": {},
   "outputs": [],
   "source": [
    "# function that create a bb from the centroid point\n",
    "\n",
    "def cent_to_bbox(centroid):\n",
    "    #this function takes a list of centroid points and convernts them into a bbbox to use for querying sattelitte images.\n",
    "    # the the size of the bbox should theoretically be large enought to contain the largest fire\n",
    "    \"\"\"returns a list containing the bottom left and the top right \n",
    "    points in the sequence\n",
    "    Here, we use min and max four times over the collection of points\n",
    "    \"\"\"\n",
    "    bot_left_x = min(point[0] for point in points)\n",
    "    bot_left_y = min(point[1] for point in points)\n",
    "    top_right_x = max(point[0] for point in points)\n",
    "    top_right_y = max(point[1] for point in points)\n",
    "\n",
    "    return [(bot_left_x, bot_left_y), (top_right_x, top_right_y)]"
   ]
  },
  {
   "cell_type": "code",
   "execution_count": 95,
   "id": "8c31c827-3f1b-4765-b7a2-d67e16214cde",
   "metadata": {},
   "outputs": [
    {
     "name": "stdout",
     "output_type": "stream",
     "text": [
      "Alarm Date: 2020-08-16, Start Date: 2020-07-17, End Date: 2020-09-15\n",
      "Alarm Date: 2020-08-16, Start Date: 2020-07-17, End Date: 2020-09-15\n",
      "Alarm Date: 2020-02-28, Start Date: 2020-01-29, End Date: 2020-03-29\n",
      "Alarm Date: 2005-07-19, Start Date: 2005-06-19, End Date: 2005-08-18\n",
      "Alarm Date: 2005-07-26, Start Date: 2005-06-26, End Date: 2005-08-25\n",
      "Alarm Date: 2008-06-20, Start Date: 2008-05-21, End Date: 2008-07-20\n",
      "Alarm Date: 2008-06-11, Start Date: 2008-05-12, End Date: 2008-07-11\n",
      "Alarm Date: 2008-06-22, Start Date: 2008-05-23, End Date: 2008-07-22\n",
      "Alarm Date: 2009-08-12, Start Date: 2009-07-13, End Date: 2009-09-11\n",
      "Alarm Date: 2010-06-18, Start Date: 2010-05-19, End Date: 2010-07-18\n",
      "Alarm Date: 2004-05-09, Start Date: 2004-04-09, End Date: 2004-06-08\n",
      "Alarm Date: 2011-07-20, Start Date: 2011-06-20, End Date: 2011-08-19\n",
      "Alarm Date: 2015-05-10, Start Date: 2015-04-10, End Date: 2015-06-09\n",
      "Alarm Date: 2021-01-19, Start Date: 2020-12-20, End Date: 2021-02-18\n",
      "Alarm Date: 2022-06-21, Start Date: 2022-05-22, End Date: 2022-07-21\n",
      "Alarm Date: 2020-05-24, Start Date: 2020-04-24, End Date: 2020-06-23\n",
      "Alarm Date: 2020-08-17, Start Date: 2020-07-18, End Date: 2020-09-16\n",
      "Alarm Date: 2020-09-27, Start Date: 2020-08-28, End Date: 2020-10-27\n",
      "Alarm Date: 2020-06-05, Start Date: 2020-05-06, End Date: 2020-07-05\n",
      "Alarm Date: 2020-08-18, Start Date: 2020-07-19, End Date: 2020-09-17\n",
      "Alarm Date: 2003-08-26, Start Date: 2003-07-27, End Date: 2003-09-25\n",
      "Alarm Date: 2004-06-25, Start Date: 2004-05-26, End Date: 2004-07-25\n",
      "Alarm Date: 2013-07-04, Start Date: 2013-06-04, End Date: 2013-08-03\n",
      "Alarm Date: 2013-07-26, Start Date: 2013-06-26, End Date: 2013-08-25\n",
      "Alarm Date: 2013-05-01, Start Date: 2013-04-01, End Date: 2013-05-31\n",
      "Alarm Date: 2017-08-27, Start Date: 2017-07-28, End Date: 2017-09-26\n",
      "Alarm Date: 2017-10-08, Start Date: 2017-09-08, End Date: 2017-11-07\n",
      "Alarm Date: 2017-10-08, Start Date: 2017-09-08, End Date: 2017-11-07\n",
      "Alarm Date: 2017-10-08, Start Date: 2017-09-08, End Date: 2017-11-07\n",
      "Alarm Date: 2017-10-08, Start Date: 2017-09-08, End Date: 2017-11-07\n",
      "Alarm Date: 2019-10-23, Start Date: 2019-09-23, End Date: 2019-11-22\n",
      "Alarm Date: 2022-06-23, Start Date: 2022-05-24, End Date: 2022-07-23\n",
      "Alarm Date: 2017-10-09, Start Date: 2017-09-09, End Date: 2017-11-08\n"
     ]
    }
   ],
   "source": [
    "'''\n",
    "sucess!\n",
    "'''\n",
    "\n",
    "#function to take alist of dates and centeroids from shapefiles of fire locations and return image collections \n",
    "def get_landsat_images(dates):\n",
    "    #dates takes a list of dates in mm/dd/yy format\n",
    "    #centroid takes \n",
    "    for alarm_date in dates:\n",
    "        # Calculate start and end dates within 30 day month range\n",
    "        datex = datetime.datetime.strptime(alarm_date, \"%Y-%m-%d\")\n",
    "        start_date = datex - datetime.timedelta(days=30)\n",
    "        start_date = start_date.strftime(\"%Y-%m-%d\")\n",
    "        end_date = datex + datetime.timedelta(days=30)\n",
    "        end_date = end_date.strftime(\"%Y-%m-%d\")\n",
    "        print(f\"Alarm Date: {alarm_date}, Start Date: {start_date}, End Date: {end_date}\")\n",
    "        \n",
    "\n",
    "get_landsat_images(fdates_list)"
   ]
  },
  {
   "cell_type": "code",
   "execution_count": null,
   "id": "d485d547-bfa8-4188-8cea-70ec5281369f",
   "metadata": {},
   "outputs": [],
   "source": []
  }
 ],
 "metadata": {
  "kernelspec": {
   "display_name": "Python 3 (ipykernel)",
   "language": "python",
   "name": "python3"
  },
  "language_info": {
   "codemirror_mode": {
    "name": "ipython",
    "version": 3
   },
   "file_extension": ".py",
   "mimetype": "text/x-python",
   "name": "python",
   "nbconvert_exporter": "python",
   "pygments_lexer": "ipython3",
   "version": "3.11.4"
  }
 },
 "nbformat": 4,
 "nbformat_minor": 5
}
