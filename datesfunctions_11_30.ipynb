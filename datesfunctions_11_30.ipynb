{
 "cells": [
  {
   "cell_type": "markdown",
   "id": "14a318eb-bd22-4cff-82ad-a6beded600b7",
   "metadata": {},
   "source": [
    "stage 1\n",
    "\n",
    "this copy has the shapes files and created a list of dates from fire shapefiles and created a function to read the dates and extract the start and end date for image collection\n",
    "only has date\n",
    "the next stage will make centroid points from file\n",
    "notas\n",
    "- for loop\n",
    "- function?"
   ]
  },
  {
   "cell_type": "code",
   "execution_count": null,
   "id": "b7016f8d-2b2c-4792-b442-b738b36eb137",
   "metadata": {},
   "outputs": [],
   "source": [
    "#resources used\n",
    "#https://stackoverflow.com/questions/6871016/adding-days-to-a-date-in-python\n"
   ]
  },
  {
   "cell_type": "code",
   "execution_count": 3,
   "id": "711ac087-8cd8-44c3-8b3a-768f397155fc",
   "metadata": {
    "tags": []
   },
   "outputs": [],
   "source": [
    "import datetime\n",
    "import geopandas as gpd"
   ]
  },
  {
   "cell_type": "code",
   "execution_count": 4,
   "id": "eda8399c-1dc7-4a86-b400-37c4c7e14629",
   "metadata": {
    "tags": []
   },
   "outputs": [],
   "source": [
    "\n",
    "#import eucalyptus in fires shapfiles\n",
    "#import shapefiles\n",
    "EucList= gpd.read_file(\"Euc/EucInFires.shp\")\n",
    "FiresWithEuc = gpd.read_file(\"Fire/FiresWithEuc.shp\")\n",
    "\n",
    "#create a list with the alarm_dates\n",
    "fdates = FiresWithEuc['ALARM_DATE']\n",
    "fdates_list = list(fdates)"
   ]
  },
  {
   "cell_type": "code",
   "execution_count": 11,
   "id": "f46ed947-f4de-4fad-8b59-703149752be3",
   "metadata": {
    "tags": []
   },
   "outputs": [],
   "source": [
    "#fdates_list"
   ]
  },
  {
   "cell_type": "code",
   "execution_count": 12,
   "id": "8c31c827-3f1b-4765-b7a2-d67e16214cde",
   "metadata": {},
   "outputs": [],
   "source": [
    "\n",
    "#function to take alist of dates and centeroids from shapefiles of fire locations and return image collections \n",
    "def get_landsat_images(dates):\n",
    "    #dates takes a list of dates in mm/dd/yy format\n",
    "    #centroid takes \n",
    "    for alarm_date in dates:\n",
    "        # Calculate start and end dates within 30 day month range\n",
    "        datex = datetime.datetime.strptime(alarm_date, \"%Y-%m-%d\")\n",
    "        start_date = datex - datetime.timedelta(days=30)\n",
    "        start_date = start_date.strftime(\"%Y-%m-%d\")\n",
    "        end_date = datex + datetime.timedelta(days=30)\n",
    "        end_date = end_date.strftime(\"%Y-%m-%d\")\n",
    "        print(f\"Alarm Date: {alarm_date}, Start Date: {start_date}, End Date: {end_date}\")\n",
    "        \n",
    "\n",
    "#get_landsat_images(fdates_list)"
   ]
  },
  {
   "cell_type": "code",
   "execution_count": null,
   "id": "764c8f12-b36c-4b96-a558-bc219216d0ec",
   "metadata": {
    "tags": []
   },
   "outputs": [],
   "source": []
  },
  {
   "cell_type": "code",
   "execution_count": null,
   "id": "12199f27-4665-468d-8e23-ece313398321",
   "metadata": {},
   "outputs": [],
   "source": []
  }
 ],
 "metadata": {
  "kernelspec": {
   "display_name": "Python 3 (ipykernel)",
   "language": "python",
   "name": "python3"
  },
  "language_info": {
   "codemirror_mode": {
    "name": "ipython",
    "version": 3
   },
   "file_extension": ".py",
   "mimetype": "text/x-python",
   "name": "python",
   "nbconvert_exporter": "python",
   "pygments_lexer": "ipython3",
   "version": "3.11.4"
  }
 },
 "nbformat": 4,
 "nbformat_minor": 5
}
