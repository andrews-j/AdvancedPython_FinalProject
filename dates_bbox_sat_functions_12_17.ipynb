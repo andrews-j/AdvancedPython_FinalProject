{
 "cells": [
  {
   "cell_type": "markdown",
   "id": "14a318eb-bd22-4cff-82ad-a6beded600b7",
   "metadata": {},
   "source": [
    "stage 3\n",
    "\n",
    "this notebook has three functions - \n",
    "1. get_fire_dates(fires) - get a list of dates from the FiresWithEuc dataframe\n",
    "2. get_bbox(fire) - get the bounding boxes from the same dataframe - these are both complete and functioning \n",
    "3. def get_sat_images(bounds, dates, fires) - the previous two functions to query satelitte imagery \n",
    " "
   ]
  },
  {
   "cell_type": "code",
   "execution_count": 1,
   "id": "b7016f8d-2b2c-4792-b442-b738b36eb137",
   "metadata": {},
   "outputs": [],
   "source": [
    "#resources used\n",
    "#https://stackoverflow.com/questions/6871016/adding-days-to-a-date-in-python"
   ]
  },
  {
   "cell_type": "code",
   "execution_count": 2,
   "id": "8b067147-aaf7-48d5-b0b9-8b44114f36a8",
   "metadata": {},
   "outputs": [],
   "source": [
    "#!pip install --upgrade stackstac==0.5.0"
   ]
  },
  {
   "cell_type": "code",
   "execution_count": 3,
   "id": "711ac087-8cd8-44c3-8b3a-768f397155fc",
   "metadata": {
    "tags": []
   },
   "outputs": [],
   "source": [
    "import datetime\n",
    "import geopandas as gpd # 0.13.2\n",
    "import stackstac # Needs to be 0.5.0 - if it is not run \"conda install -c conda-forge stackstac\" in MPC terminal, also the pip install in above codeblock\n",
    "import dask.array as da\n",
    "from pystac_client import Client\n",
    "import leafmap\n",
    "import pystac_client\n",
    "import dask\n",
    "import planetary_computer as pc\n",
    "import geogif\n",
    "import numpy as np\n",
    "import xarray as xr\n",
    "import rioxarray\n",
    "import cartopy.crs as ccrs\n",
    "import pyproj"
   ]
  },
  {
   "cell_type": "code",
   "execution_count": 4,
   "id": "c1069ad2-18ba-4d11-9b68-9fea78566f34",
   "metadata": {
    "tags": []
   },
   "outputs": [],
   "source": [
    "#stackstac.__version__"
   ]
  },
  {
   "cell_type": "code",
   "execution_count": 5,
   "id": "eda8399c-1dc7-4a86-b400-37c4c7e14629",
   "metadata": {
    "tags": []
   },
   "outputs": [],
   "source": [
    "#import shapfiles\n",
    "#EucList= gpd.read_file(\"Euc/EucInFires.shp\")\n",
    "FiresWithEuc = gpd.read_file(\"Fire/FiresWithEuc.shp\")"
   ]
  },
  {
   "cell_type": "code",
   "execution_count": 6,
   "id": "478759b4-c3b1-4e16-b752-8d2ae53ae9cf",
   "metadata": {
    "tags": []
   },
   "outputs": [],
   "source": [
    "#import matplotlib.pyplot as plt\n",
    "#FiresWithEuc.explore(\"ALARM_DATE\", legend=False)"
   ]
  },
  {
   "cell_type": "code",
   "execution_count": 7,
   "id": "9f1a14b3-61cd-4530-966b-248f5480f7cf",
   "metadata": {
    "tags": []
   },
   "outputs": [],
   "source": [
    "# bounds for each bounding box\n",
    "#FiresWithEuc.head(10).bounds"
   ]
  },
  {
   "cell_type": "code",
   "execution_count": 8,
   "id": "3f24f3ee-f4be-4f84-a861-5a5bd5e2a28c",
   "metadata": {
    "tags": []
   },
   "outputs": [],
   "source": [
    "#FiresWithEuc.crs"
   ]
  },
  {
   "cell_type": "markdown",
   "id": "362ebd26-faab-4271-8ece-99df825cbc12",
   "metadata": {
    "tags": []
   },
   "source": [
    "--------------------------------------------------"
   ]
  },
  {
   "cell_type": "code",
   "execution_count": 18,
   "id": "9101c505-573a-47e9-b6b2-92fa2506554c",
   "metadata": {},
   "outputs": [
    {
     "data": {
      "text/plain": [
       "(['2020-07-17',\n",
       "  '2020-07-17',\n",
       "  '2020-01-29',\n",
       "  '2005-06-19',\n",
       "  '2005-06-26',\n",
       "  '2008-05-21',\n",
       "  '2008-05-12',\n",
       "  '2008-05-23',\n",
       "  '2009-07-13',\n",
       "  '2010-05-19',\n",
       "  '2004-04-09',\n",
       "  '2011-06-20',\n",
       "  '2015-04-10',\n",
       "  '2020-12-20',\n",
       "  '2022-05-22',\n",
       "  '2020-04-24',\n",
       "  '2020-07-18',\n",
       "  '2020-08-28',\n",
       "  '2020-05-06',\n",
       "  '2020-07-19',\n",
       "  '2003-07-27',\n",
       "  '2004-05-26',\n",
       "  '2013-06-04',\n",
       "  '2013-06-26',\n",
       "  '2013-04-01',\n",
       "  '2017-07-28',\n",
       "  '2017-09-08',\n",
       "  '2017-09-08',\n",
       "  '2017-09-08',\n",
       "  '2017-09-08',\n",
       "  '2019-09-23',\n",
       "  '2022-05-24',\n",
       "  '2017-09-09'],\n",
       " ['2020-09-15',\n",
       "  '2020-09-15',\n",
       "  '2020-03-29',\n",
       "  '2005-08-18',\n",
       "  '2005-08-25',\n",
       "  '2008-07-20',\n",
       "  '2008-07-11',\n",
       "  '2008-07-22',\n",
       "  '2009-09-11',\n",
       "  '2010-07-18',\n",
       "  '2004-06-08',\n",
       "  '2011-08-19',\n",
       "  '2015-06-09',\n",
       "  '2021-02-18',\n",
       "  '2022-07-21',\n",
       "  '2020-06-23',\n",
       "  '2020-09-16',\n",
       "  '2020-10-27',\n",
       "  '2020-07-05',\n",
       "  '2020-09-17',\n",
       "  '2003-09-25',\n",
       "  '2004-07-25',\n",
       "  '2013-08-03',\n",
       "  '2013-08-25',\n",
       "  '2013-05-31',\n",
       "  '2017-09-26',\n",
       "  '2017-11-07',\n",
       "  '2017-11-07',\n",
       "  '2017-11-07',\n",
       "  '2017-11-07',\n",
       "  '2019-11-22',\n",
       "  '2022-07-23',\n",
       "  '2017-11-08'])"
      ]
     },
     "execution_count": 18,
     "metadata": {},
     "output_type": "execute_result"
    }
   ],
   "source": [
    "def get_fire_dates(fires):\n",
    "    '''\n",
    "    This function creates a list of alarm date for fires and calculates and outputs the date range for use in sat imagery queries\n",
    "        start date - alarm date minus 30 days\n",
    "        end date - alarm date plus 30 days\n",
    "        \n",
    "    args:\n",
    "    fires: is a geodataframe that contains the column 'ALARM_DATE' (should be in \"%Y-%m-%d\") for each fire\n",
    "        if you are using differnt data then you may need to change the column name \n",
    "\n",
    "    this will then be used for queries landsat satelitte images in a later function\n",
    "    '''\n",
    "    \n",
    "    #create a list with the alarm_dates\n",
    "    alarm_dates = fires['ALARM_DATE'] # you change the name of this column if using other data\n",
    "    alarm_dates_list = list(alarm_dates)\n",
    "    \n",
    "    #lists to store start and end dates\n",
    "    start_dates = []  \n",
    "    end_dates = []    \n",
    "    \n",
    "    # Calculate start and end dates within 30 day month range\n",
    "    for alarm_date in alarm_dates_list:\n",
    "        datex = datetime.datetime.strptime(alarm_date, \"%Y-%m-%d\")\n",
    "        \n",
    "        # calculates and formats start dates\n",
    "        start_date = datex - datetime.timedelta(days=30)\n",
    "        start_date = start_date.strftime(\"%Y-%m-%d\")\n",
    "        \n",
    "        # calculates and formats end dates\n",
    "        end_date = datex + datetime.timedelta(days=30)\n",
    "        end_date = end_date.strftime(\"%Y-%m-%d\")\n",
    "        \n",
    "        #print(f\"Alarm Date: {alarm_date}, Start Date: {start_date}, End Date: {end_date}\")\n",
    "        \n",
    "        #appends list\n",
    "        start_dates.append(start_date) \n",
    "        end_dates.append(end_date)\n",
    "        \n",
    "        \n",
    "    \n",
    "    return start_dates, end_dates   \n",
    "\n",
    "\n",
    "get_fire_dates(FiresWithEuc)"
   ]
  },
  {
   "cell_type": "markdown",
   "id": "236d7102-c029-4d70-94b7-e025899a0d9a",
   "metadata": {},
   "source": [
    "------------------------------"
   ]
  },
  {
   "cell_type": "code",
   "execution_count": 10,
   "id": "9bb87b64-8d5f-42f6-9726-55be72b0ae1e",
   "metadata": {},
   "outputs": [],
   "source": [
    "def get_bbox(fire):\n",
    "    '''\n",
    "    This function returns a list containing the bbox for the geometry of each fire from the geometry column in a geodataframe\n",
    "    \n",
    "    args:\n",
    "    fire : is a geodataframe that contains the geometry (polygon) for each fire\n",
    "    '''\n",
    "    #create dataframe with just coordinates of bbox as only column\n",
    "    fire_bounds = fire.bounds #find bounds for each fire geometry\n",
    "    fire_bounds['bbox'] = fire_bounds.apply(lambda row: (row['minx'], row['miny'], row['maxx'], row['maxy']), axis=1)\n",
    "    bbox = fire_bounds['bbox'] \n",
    "    \n",
    "    bbox= tuple(bbox) # ensures bbox is a tuple\n",
    "    \n",
    "    return bbox\n"
   ]
  },
  {
   "cell_type": "code",
   "execution_count": 16,
   "id": "d485d547-bfa8-4188-8cea-70ec5281369f",
   "metadata": {},
   "outputs": [
    {
     "name": "stdout",
     "output_type": "stream",
     "text": [
      "CPU times: user 7 µs, sys: 2 µs, total: 9 µs\n",
      "Wall time: 13.8 µs\n"
     ]
    }
   ],
   "source": [
    " %%time \n",
    "\n",
    "def get_sat_images(bounds, dates, fires):\n",
    "    '''\n",
    "    This function gets image collections for each fire \n",
    "    \n",
    "    args:\n",
    "    bounds: list of bounding boxes \n",
    "    dates: two lists in one- the first is a list of dates that include the start date and end date for the range in query of sat images\n",
    "    fires: \n",
    "    \n",
    "    This function is designed to be used with the outputs of the previous two functions:\n",
    "    dates = get_fire_dates(fires) contains two lists- start date is first list, end date is second \n",
    "    bounds = get_bbox(fire) \n",
    "    '''\n",
    "    \n",
    "    #set the start_dates, end_dates, and bboxbounds to be equal to the first two inputs of the function\n",
    "    start_dates, end_dates = dates #get_fire_dates(FiresWithEuc)\n",
    "    bboxs = bounds #get_bbox(FiresWithEuc)\n",
    "    \n",
    "\n",
    "    api_url = \"https://planetarycomputer.microsoft.com/api/stac/v1\"\n",
    "    \n",
    "    from dask.distributed import Client, LocalCluster\n",
    "    cluster = LocalCluster()\n",
    "    client = Client(cluster)\n",
    "    client\n",
    "    \n",
    "    \n",
    "    catalog = pystac_client.Client.open(api_url)\n",
    "    \n",
    "    \n",
    "    ###################### transforms bbox from degrees to lat long - depending on your data this may or may not be necessary\n",
    "    source_crs = 'epsg:3857' # coord system used by fireswitheuc\n",
    "    target_crs = 'epsg:4326' # Global lat-lon coordinate system\n",
    "    \n",
    "    #create the transfromer\n",
    "    latlon_to_s2_transformer = pyproj.Transformer.from_crs(source_crs, target_crs)\n",
    "    \n",
    "    \n",
    "    projected_coordinates = [] # empty list to store new coordinates\n",
    "    for point in bboxs:\n",
    "        projected_minx, projected_miny = latlon_to_s2_transformer.transform(point[1], point[0])\n",
    "        projected_maxx, projected_maxy = latlon_to_s2_transformer.transform(point[3], point[2])\n",
    "        projected_coordinates.append((projected_minx, projected_miny, projected_maxx, projected_maxy)) #appends empty list\n",
    "    \n",
    "    # to make sure that the new projected coords are tuples\n",
    "    bbox_new = tuple(projected_coordinates)\n",
    "\n",
    "    #################################\n",
    "    \n",
    "    # interate through the start and end dates, and bboxes\n",
    "    img_collect = [] #empty list to store image collections\n",
    "    for i in range(len(fires)):\n",
    "        search = catalog.search(\n",
    "            datetime=f\"{start_dates[i]}/{end_dates[i]}\", \n",
    "            collections=[\"landsat-c2-l2\"],\n",
    "            bbox=bbox_new[i],  \n",
    "            query=[\"eo:cloud_cover<5\"],\n",
    "            max_items=1000\n",
    "        )\n",
    "        \n",
    "        #executes search and stores in variable, items\n",
    "        items = pc.sign(search)\n",
    "        img_collect.append(items) #stores collections in list, img_collect\n",
    "        \n",
    "        len(items)\n",
    "        \n",
    "    return img_collect \n",
    "        "
   ]
  },
  {
   "cell_type": "code",
   "execution_count": 17,
   "id": "dd52c30c-4c1b-414d-b5d1-bd1bac9a1bf7",
   "metadata": {
    "tags": []
   },
   "outputs": [
    {
     "data": {
      "text/plain": [
       "[<pystac.item_collection.ItemCollection at 0x78ce4869d0d0>,\n",
       " <pystac.item_collection.ItemCollection at 0x78ce486798d0>,\n",
       " <pystac.item_collection.ItemCollection at 0x78ce4856cad0>,\n",
       " <pystac.item_collection.ItemCollection at 0x78ce485e3210>,\n",
       " <pystac.item_collection.ItemCollection at 0x78ce48479490>,\n",
       " <pystac.item_collection.ItemCollection at 0x78ce485cf750>,\n",
       " <pystac.item_collection.ItemCollection at 0x78ce484d7150>,\n",
       " <pystac.item_collection.ItemCollection at 0x78ce48369f50>,\n",
       " <pystac.item_collection.ItemCollection at 0x78ce489dc2d0>,\n",
       " <pystac.item_collection.ItemCollection at 0x78ce48fb8990>,\n",
       " <pystac.item_collection.ItemCollection at 0x78ce48d81110>,\n",
       " <pystac.item_collection.ItemCollection at 0x78ce601e0550>,\n",
       " <pystac.item_collection.ItemCollection at 0x78ce602a9510>,\n",
       " <pystac.item_collection.ItemCollection at 0x78ce602e9990>,\n",
       " <pystac.item_collection.ItemCollection at 0x78ce60106810>,\n",
       " <pystac.item_collection.ItemCollection at 0x78ce48d5d5d0>,\n",
       " <pystac.item_collection.ItemCollection at 0x78ce62652850>,\n",
       " <pystac.item_collection.ItemCollection at 0x78ce80619290>,\n",
       " <pystac.item_collection.ItemCollection at 0x78ce882a2a10>,\n",
       " <pystac.item_collection.ItemCollection at 0x78ce4865ef50>,\n",
       " <pystac.item_collection.ItemCollection at 0x78ce48409710>,\n",
       " <pystac.item_collection.ItemCollection at 0x78ce48e39150>,\n",
       " <pystac.item_collection.ItemCollection at 0x78ce48e52290>,\n",
       " <pystac.item_collection.ItemCollection at 0x78ce4887bf10>,\n",
       " <pystac.item_collection.ItemCollection at 0x78ce882aac10>,\n",
       " <pystac.item_collection.ItemCollection at 0x78ce8050f410>,\n",
       " <pystac.item_collection.ItemCollection at 0x78ce80348a50>,\n",
       " <pystac.item_collection.ItemCollection at 0x78ce80513ed0>,\n",
       " <pystac.item_collection.ItemCollection at 0x78ce802ec750>,\n",
       " <pystac.item_collection.ItemCollection at 0x78ce483b2150>,\n",
       " <pystac.item_collection.ItemCollection at 0x78ce486b2e10>,\n",
       " <pystac.item_collection.ItemCollection at 0x78ce483ea4d0>,\n",
       " <pystac.item_collection.ItemCollection at 0x78ce4827d590>]"
      ]
     },
     "execution_count": 17,
     "metadata": {},
     "output_type": "execute_result"
    }
   ],
   "source": [
    "#defing new variables with results of previous functions\n",
    "boundingboxes= get_bbox(FiresWithEuc)\n",
    "fire_dates= get_fire_dates(FiresWithEuc)\n",
    "\n",
    "#executes get_sat_images for each search\n",
    "get_sat_images(boundingboxes, fire_dates, FiresWithEuc)"
   ]
  },
  {
   "cell_type": "markdown",
   "id": "9413aa8d-974c-4bc3-ae47-bc13d291acc7",
   "metadata": {},
   "source": [
    "------------------------------------------------------------"
   ]
  }
 ],
 "metadata": {
  "kernelspec": {
   "display_name": "Python 3 (ipykernel)",
   "language": "python",
   "name": "python3"
  },
  "language_info": {
   "codemirror_mode": {
    "name": "ipython",
    "version": 3
   },
   "file_extension": ".py",
   "mimetype": "text/x-python",
   "name": "python",
   "nbconvert_exporter": "python",
   "pygments_lexer": "ipython3",
   "version": "3.11.4"
  }
 },
 "nbformat": 4,
 "nbformat_minor": 5
}
